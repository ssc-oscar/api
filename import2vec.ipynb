{
 "cells": [
  {
   "cell_type": "markdown",
   "metadata": {},
   "source": [
    "# import2vec - Playbook"
   ]
  },
  {
   "cell_type": "code",
   "execution_count": 33,
   "metadata": {
    "ExecuteTime": {
     "end_time": "2019-01-22T09:05:20.999200Z",
     "start_time": "2019-01-22T09:05:20.996977Z"
    }
   },
   "outputs": [],
   "source": [
    "from gensim.models.keyedvectors import KeyedVectors"
   ]
  },
  {
   "cell_type": "markdown",
   "metadata": {},
   "source": [
    "## Java Ecosystem"
   ]
  },
  {
   "cell_type": "code",
   "execution_count": 34,
   "metadata": {
    "ExecuteTime": {
     "end_time": "2019-01-22T09:05:21.350751Z",
     "start_time": "2019-01-22T09:05:21.348825Z"
    }
   },
   "outputs": [],
   "source": [
    "language = 'java'\n",
    "dim = 100           # vector dimensions (available dimensions = 40, 50, 60, 100)"
   ]
  },
  {
   "cell_type": "code",
   "execution_count": 35,
   "metadata": {
    "ExecuteTime": {
     "end_time": "2019-01-22T09:05:26.345708Z",
     "start_time": "2019-01-22T09:05:21.529231Z"
    }
   },
   "outputs": [
    {
     "name": "stdout",
     "output_type": "stream",
     "text": [
      "56647 vectors loaded\n"
     ]
    }
   ],
   "source": [
    "w2v = KeyedVectors.load_word2vec_format('{}_w2v_dim{}.txt.gz'.format(language, dim), binary=False)\n",
    "vocab = w2v.vocab.keys()\n",
    "print(len(vocab), \"vectors loaded\")"
   ]
  },
  {
   "cell_type": "code",
   "execution_count": 36,
   "metadata": {
    "ExecuteTime": {
     "end_time": "2019-01-22T09:05:26.349303Z",
     "start_time": "2019-01-22T09:05:26.347167Z"
    }
   },
   "outputs": [],
   "source": [
    "def find_library(name):\n",
    "    result = []\n",
    "    for l in vocab:\n",
    "        if name in l:\n",
    "            result.append(l)\n",
    "    return result"
   ]
  },
  {
   "cell_type": "code",
   "execution_count": 37,
   "metadata": {
    "ExecuteTime": {
     "end_time": "2019-01-22T09:05:26.381594Z",
     "start_time": "2019-01-22T09:05:26.350753Z"
    }
   },
   "outputs": [
    {
     "data": {
      "text/plain": [
       "['org.apache.spark:spark-core_2.11',\n",
       " 'co.cask.cdap:cdap-spark-core',\n",
       " 'co.cask.cdap:hydrator-spark-core',\n",
       " 'org.spark-project:spark-core_2.9.3',\n",
       " 'com.sparkjava:spark-core',\n",
       " 'io.snappydata:snappy-spark-core_2.10',\n",
       " 'org.apache.spark:spark-core_2.9.3',\n",
       " 'sh.jove:jove-spark-core_1.3_2.11',\n",
       " 'sh.jove:jove-spark-core_1.3_2.10',\n",
       " 'nl.thebigb:spark-core',\n",
       " 'net.sansa-stack:sansa-rdf-spark-core_2.11']"
      ]
     },
     "execution_count": 37,
     "metadata": {},
     "output_type": "execute_result"
    }
   ],
   "source": [
    "find_library('spark-core')"
   ]
  },
  {
   "cell_type": "code",
   "execution_count": 38,
   "metadata": {
    "ExecuteTime": {
     "end_time": "2019-01-22T09:05:26.409580Z",
     "start_time": "2019-01-22T09:05:26.383240Z"
    },
    "scrolled": true
   },
   "outputs": [
    {
     "data": {
      "text/plain": [
       "[('org.apache.spark:spark-sql_2.11', 0.8891562819480896),\n",
       " ('org.apache.spark:spark-catalyst_2.11', 0.8426709175109863),\n",
       " ('org.apache.spark:spark-catalyst_2.10', 0.805315375328064),\n",
       " ('org.apache.spark:spark-streaming_2.10', 0.7729014158248901),\n",
       " ('org.apache.spark:spark-tags_2.11', 0.7586476802825928),\n",
       " ('co.cask.cdap:cdap-spark-core', 0.7313240170478821),\n",
       " ('org.apache.spark:spark-unsafe_2.11', 0.7275408506393433),\n",
       " ('ch.cern.hadoop:hadoop-common', 0.723651647567749),\n",
       " ('com.facebook.presto.hadoop:hadoop-apache2', 0.7096152305603027),\n",
       " ('com.moz.fiji.mapreduce:fiji-mapreduce', 0.7039284706115723),\n",
       " ('com.clearspring.analytics:stream', 0.6977705359458923),\n",
       " ('org.apache.hbase:hbase-hadoop1-compat', 0.6975156664848328),\n",
       " ('org.apache.spark:spark-mllib_2.11', 0.6949185132980347),\n",
       " ('org.apache.spark:spark-launcher_2.11', 0.6847663521766663),\n",
       " ('com.facebook.presto.hive:hive-apache', 0.68293696641922),\n",
       " ('net.razorvine:pyrolite', 0.6681798696517944),\n",
       " ('net.sf.py4j:py4j', 0.6580700874328613),\n",
       " ('org.apache.hive:hive-exec', 0.6580504775047302),\n",
       " ('org.apache.hadoop:hadoop-auth', 0.6577869057655334),\n",
       " ('org.apache.spark:spark-network-common_2.11', 0.6576741933822632)]"
      ]
     },
     "execution_count": 38,
     "metadata": {},
     "output_type": "execute_result"
    }
   ],
   "source": [
    "w2v.most_similar(['org.apache.spark:spark-core_2.11'], topn=20)"
   ]
  },
  {
   "cell_type": "code",
   "execution_count": 39,
   "metadata": {
    "ExecuteTime": {
     "end_time": "2019-01-22T09:05:26.416224Z",
     "start_time": "2019-01-22T09:05:26.410757Z"
    },
    "scrolled": true
   },
   "outputs": [
    {
     "data": {
      "text/plain": [
       "[('org.hibernate:hibernate-search-analyzers', 0.8520383238792419),\n",
       " ('org.apache.lucene:lucene-highlighter', 0.8386281132698059),\n",
       " ('org.apache.lucene:lucene-analyzers-common', 0.8385308384895325),\n",
       " ('org.elasticsearch:elasticsearch', 0.7600134611129761),\n",
       " ('org.apache.lucene:lucene-queryparser', 0.7248219847679138),\n",
       " ('org.sonatype.nexus.bundles:org.sonatype.nexus.bundles.elasticsearch',\n",
       "  0.7022134065628052),\n",
       " ('org.apache.lucene:lucene-suggest', 0.6847559213638306),\n",
       " ('org.jboss.seam.embedded:thirdparty-all', 0.6804351806640625),\n",
       " ('org.apache.lucene:lucene-queries', 0.6704953908920288),\n",
       " ('org.apache.lucene:lucene-memory', 0.636210560798645),\n",
       " ('org.apache.jackrabbit:oak-lucene', 0.6200231313705444),\n",
       " ('org.infinispan:infinispan-embedded-query', 0.6104377508163452),\n",
       " ('org.apache.lucene:lucene-sandbox', 0.6088738441467285),\n",
       " ('org.apache.lucene:lucene-spatial-extras', 0.6075245141983032),\n",
       " ('org.apache.solr:solr-solrj', 0.6072708964347839),\n",
       " ('org.apache.solr:solr-core', 0.6066290140151978),\n",
       " ('org.apache.lucene:lucene-join', 0.5968457460403442),\n",
       " ('org.apache.commons:commons-compress', 0.5951359272003174),\n",
       " ('org.apache.lucene:lucene-analyzers', 0.5905944108963013),\n",
       " ('org.apache.tika:tika-core', 0.5882447957992554)]"
      ]
     },
     "execution_count": 39,
     "metadata": {},
     "output_type": "execute_result"
    }
   ],
   "source": [
    "w2v.most_similar(['org.apache.lucene:lucene-core'], topn=20)"
   ]
  },
  {
   "cell_type": "code",
   "execution_count": 40,
   "metadata": {
    "ExecuteTime": {
     "end_time": "2019-01-22T09:05:26.429506Z",
     "start_time": "2019-01-22T09:05:26.417365Z"
    },
    "scrolled": false
   },
   "outputs": [
    {
     "data": {
      "text/plain": [
       "[('com.graphaware.neo4j:nlp', 0.803077220916748),\n",
       " ('org.apache.uima:uimafit-core', 0.798893928527832),\n",
       " ('org.apache.tika:tika-parsers', 0.7922601103782654),\n",
       " ('org.apache.ctakes:ctakes-type-system', 0.7870116829872131),\n",
       " ('org.apache.uima:uimaj-core', 0.7824703454971313),\n",
       " ('edu.ucar:netcdf', 0.774137020111084),\n",
       " ('org.apache.poi:poi-scratchpad', 0.7719954252243042),\n",
       " ('org.apache.poi:ooxml-schemas', 0.76912921667099),\n",
       " ('org.apache.pdfbox:fontbox', 0.7539252042770386),\n",
       " ('com.github.pjfanning:xmlbeans', 0.7417415976524353),\n",
       " ('org.apache.pdfbox:pdfbox', 0.7372241020202637),\n",
       " ('com.healthmarketscience.jackcess:jackcess', 0.7329303026199341),\n",
       " ('org.apache.tika:tika-core', 0.7329004406929016),\n",
       " ('com.drewnoakes:metadata-extractor', 0.7292770743370056),\n",
       " ('org.apache.jackrabbit:jackrabbit-webdav', 0.7047601938247681),\n",
       " ('de.l3s.boilerpipe:boilerpipe', 0.7045236825942993),\n",
       " ('com.googlecode.mp4parser:isoparser', 0.7035699486732483),\n",
       " ('org.apache.xmlbeans:xmlbeans', 0.69547039270401),\n",
       " ('biz.aQute.bnd:biz.aQute.bndlib', 0.6889597773551941),\n",
       " ('com.pff:java-libpst', 0.677327573299408)]"
      ]
     },
     "execution_count": 40,
     "metadata": {},
     "output_type": "execute_result"
    }
   ],
   "source": [
    "w2v.most_similar(['org.apache.opennlp:opennlp-tools'], topn=20)"
   ]
  },
  {
   "cell_type": "code",
   "execution_count": 41,
   "metadata": {
    "ExecuteTime": {
     "end_time": "2019-01-22T09:05:26.441047Z",
     "start_time": "2019-01-22T09:05:26.430841Z"
    }
   },
   "outputs": [
    {
     "data": {
      "text/plain": [
       "[('org.apache.maven:maven-model', 0.9209201335906982),\n",
       " ('org.apache.maven:maven-plugin-api', 0.919562816619873),\n",
       " ('org.apache.maven.plugin-tools:maven-plugin-annotations',\n",
       "  0.8329589366912842),\n",
       " ('org.codehaus.plexus:plexus-utils', 0.8122948408126831),\n",
       " ('org.codehaus.plexus:plexus-container-default', 0.7436679601669312),\n",
       " ('org.apache.maven:maven-artifact', 0.7167465686798096),\n",
       " ('org.apache.maven:maven-compat', 0.7024198174476624),\n",
       " ('org.eclipse.aether:aether-api', 0.6979389190673828),\n",
       " ('org.codehaus.plexus:plexus-archiver', 0.688949465751648),\n",
       " ('org.sonatype.plexus:plexus-build-api', 0.6842128038406372),\n",
       " ('org.codehaus.plexus:plexus-component-annotations', 0.6443798542022705),\n",
       " ('org.codehaus.plexus:plexus-classworlds', 0.634364128112793),\n",
       " ('org.apache.maven:maven-archiver', 0.631584107875824),\n",
       " ('org.apache.maven.shared:maven-dependency-tree', 0.622736930847168),\n",
       " ('rt-8-java-util:java-util-jar', 0.6197214722633362),\n",
       " ('org.apache.maven.shared:maven-filtering', 0.6156570911407471),\n",
       " ('org.twdata.maven:mojo-executor', 0.6142845749855042),\n",
       " ('org.apache.maven:maven-settings-builder', 0.6118814945220947),\n",
       " ('org.apache.ant:ant', 0.6091021299362183),\n",
       " ('org.apache.maven.wagon:wagon-provider-api', 0.6014876365661621)]"
      ]
     },
     "execution_count": 41,
     "metadata": {},
     "output_type": "execute_result"
    }
   ],
   "source": [
    "w2v.most_similar(['org.apache.maven:maven-core'], topn=20)"
   ]
  },
  {
   "cell_type": "markdown",
   "metadata": {},
   "source": [
    "## JS Ecosystem"
   ]
  },
  {
   "cell_type": "code",
   "execution_count": 42,
   "metadata": {
    "ExecuteTime": {
     "end_time": "2019-01-22T09:05:26.447767Z",
     "start_time": "2019-01-22T09:05:26.445320Z"
    }
   },
   "outputs": [],
   "source": [
    "language = 'js'\n",
    "dim = 100           # vector dimensions (available dimensions = 40, 50, 60, 100, 200)"
   ]
  },
  {
   "cell_type": "code",
   "execution_count": 43,
   "metadata": {
    "ExecuteTime": {
     "end_time": "2019-01-22T09:05:30.352741Z",
     "start_time": "2019-01-22T09:05:26.449030Z"
    }
   },
   "outputs": [
    {
     "name": "stdout",
     "output_type": "stream",
     "text": [
      "45816 vectors loaded\n"
     ]
    }
   ],
   "source": [
    "w2v = KeyedVectors.load_word2vec_format('{}_w2v_dim{}.txt.gz'.format(language, dim), binary=False)\n",
    "vocab = w2v.vocab.keys()\n",
    "print(len(vocab), \"vectors loaded\")"
   ]
  },
  {
   "cell_type": "code",
   "execution_count": 44,
   "metadata": {
    "ExecuteTime": {
     "end_time": "2019-01-22T09:05:30.369446Z",
     "start_time": "2019-01-22T09:05:30.353983Z"
    }
   },
   "outputs": [
    {
     "data": {
      "text/plain": [
       "[('https', 0.7771204710006714),\n",
       " ('url', 0.7603625655174255),\n",
       " ('fs', 0.7340375185012817),\n",
       " ('express', 0.724416971206665),\n",
       " ('path', 0.7112255692481995),\n",
       " ('request', 0.6937227249145508),\n",
       " ('util', 0.6863569021224976),\n",
       " ('child_process', 0.6663675308227539),\n",
       " ('querystring', 0.6650014519691467),\n",
       " ('events', 0.6589750647544861),\n",
       " ('os', 0.6415994763374329),\n",
       " ('crypto', 0.6345216035842896),\n",
       " ('stream', 0.6292047500610352),\n",
       " ('async', 0.6247015595436096),\n",
       " ('net', 0.6037622094154358),\n",
       " ('lodash', 0.6022700071334839),\n",
       " ('debug', 0.5991649627685547),\n",
       " ('assert', 0.5988771319389343),\n",
       " ('body-parser', 0.5945854783058167),\n",
       " ('zlib', 0.5778111219406128)]"
      ]
     },
     "execution_count": 44,
     "metadata": {},
     "output_type": "execute_result"
    }
   ],
   "source": [
    "w2v.most_similar(['http'], topn=20)"
   ]
  },
  {
   "cell_type": "code",
   "execution_count": 45,
   "metadata": {
    "ExecuteTime": {
     "end_time": "2019-01-22T09:05:30.376828Z",
     "start_time": "2019-01-22T09:05:30.371616Z"
    },
    "scrolled": false
   },
   "outputs": [
    {
     "data": {
      "text/plain": [
       "[('pg', 0.5901199579238892),\n",
       " ('redis', 0.5836095809936523),\n",
       " ('knex', 0.566214919090271),\n",
       " ('mongodb', 0.5659693479537964),\n",
       " ('nodemailer', 0.5496925711631775),\n",
       " ('xml2js', 0.5413634777069092),\n",
       " ('node-schedule', 0.5350720286369324),\n",
       " ('moment-timezone', 0.5328820943832397),\n",
       " ('thunkify', 0.5287272930145264),\n",
       " ('sequelize', 0.5269519686698914),\n",
       " ('sqlite3', 0.5225657224655151),\n",
       " ('request-promise', 0.5180245637893677),\n",
       " ('ejs', 0.5141978859901428),\n",
       " ('connect-redis', 0.5106096267700195),\n",
       " ('fibers', 0.5063296556472778),\n",
       " ('sha1', 0.5044294595718384),\n",
       " ('formidable', 0.5025683641433716),\n",
       " ('nodemailer-smtp-transport', 0.49893441796302795),\n",
       " ('dateformat', 0.49610650539398193),\n",
       " ('rethinkdbdash', 0.4891248941421509)]"
      ]
     },
     "execution_count": 45,
     "metadata": {},
     "output_type": "execute_result"
    }
   ],
   "source": [
    "w2v.most_similar(['mysql'], topn=20)"
   ]
  },
  {
   "cell_type": "code",
   "execution_count": 46,
   "metadata": {
    "ExecuteTime": {
     "end_time": "2019-01-22T09:05:30.389645Z",
     "start_time": "2019-01-22T09:05:30.378183Z"
    }
   },
   "outputs": [
    {
     "data": {
      "text/plain": [
       "[('bootstrap', 0.7167752981185913),\n",
       " ('moment', 0.644019603729248),\n",
       " ('underscore', 0.6296765804290771),\n",
       " ('angular', 0.6050096154212952),\n",
       " ('d3', 0.6033105850219727),\n",
       " ('backbone', 0.5788164138793945),\n",
       " ('leaflet', 0.5754711031913757),\n",
       " ('react', 0.5631507635116577),\n",
       " ('buffer', 0.5595115423202515),\n",
       " ('toastr', 0.5540440082550049),\n",
       " ('jquery-ui', 0.5522412061691284),\n",
       " ('react-dom', 0.5423589944839478),\n",
       " ('base64-js', 0.5373821258544922),\n",
       " ('hammerjs', 0.5305027365684509),\n",
       " ('events', 0.5270196795463562),\n",
       " ('ieee754', 0.5216330885887146),\n",
       " ('lodash', 0.5214186310768127),\n",
       " ('sweetalert', 0.519129753112793),\n",
       " ('three', 0.5163049697875977),\n",
       " ('isarray', 0.5003851056098938)]"
      ]
     },
     "execution_count": 46,
     "metadata": {},
     "output_type": "execute_result"
    }
   ],
   "source": [
    "w2v.most_similar(['jquery'], topn=20)"
   ]
  },
  {
   "cell_type": "code",
   "execution_count": 47,
   "metadata": {
    "ExecuteTime": {
     "end_time": "2019-01-22T09:05:30.402205Z",
     "start_time": "2019-01-22T09:05:30.390798Z"
    }
   },
   "outputs": [
    {
     "data": {
      "text/plain": [
       "[('imagemagick', 0.6033641695976257),\n",
       " ('sharp', 0.5916064977645874),\n",
       " ('connect-busboy', 0.5892863273620605),\n",
       " ('jimp', 0.5860012769699097),\n",
       " ('canvas', 0.5844014883041382),\n",
       " ('webshot', 0.5697810649871826),\n",
       " ('mime', 0.5539004802703857),\n",
       " ('image-size', 0.5523219108581543),\n",
       " ('multiparty', 0.524993896484375),\n",
       " ('sendgrid', 0.5245885848999023),\n",
       " ('xlsx', 0.5165978074073792),\n",
       " ('randomstring', 0.5144054889678955),\n",
       " ('csv', 0.5132931470870972),\n",
       " ('gridfs-stream', 0.4934464395046234),\n",
       " ('easyimage', 0.4932689368724823),\n",
       " ('read-chunk', 0.4925682544708252),\n",
       " ('passport-twitter', 0.48989975452423096),\n",
       " ('connect-multiparty', 0.487611323595047),\n",
       " ('multer', 0.48640692234039307),\n",
       " ('requirejs', 0.48028993606567383)]"
      ]
     },
     "execution_count": 47,
     "metadata": {},
     "output_type": "execute_result"
    }
   ],
   "source": [
    "w2v.most_similar(['gm'], topn=20)"
   ]
  },
  {
   "cell_type": "markdown",
   "metadata": {},
   "source": [
    "### Analogical Reasoning"
   ]
  },
  {
   "cell_type": "code",
   "execution_count": 48,
   "metadata": {
    "ExecuteTime": {
     "end_time": "2019-01-22T09:05:30.414605Z",
     "start_time": "2019-01-22T09:05:30.403377Z"
    }
   },
   "outputs": [
    {
     "data": {
      "text/plain": [
       "[('koa-bodyparser', 0.6675817370414734),\n",
       " ('koa-static', 0.6417285799980164),\n",
       " ('koa-router', 0.6355882287025452),\n",
       " ('koa-session', 0.5863527059555054),\n",
       " ('koa-mount', 0.5773699283599854),\n",
       " ('koa-logger', 0.557575523853302),\n",
       " ('koa-views', 0.5249016284942627),\n",
       " ('koa-body', 0.5101503729820251),\n",
       " ('passport-local', 0.5083886384963989),\n",
       " ('koa-onerror', 0.5073553323745728)]"
      ]
     },
     "execution_count": 48,
     "metadata": {},
     "output_type": "execute_result"
    }
   ],
   "source": [
    "# express : body-parser :: koa : ?\n",
    "w2v.most_similar(['express-session', 'koa'],['express'])"
   ]
  },
  {
   "cell_type": "markdown",
   "metadata": {},
   "source": [
    "## Python Ecosystem"
   ]
  },
  {
   "cell_type": "code",
   "execution_count": 49,
   "metadata": {
    "ExecuteTime": {
     "end_time": "2019-01-22T09:05:30.423852Z",
     "start_time": "2019-01-22T09:05:30.415860Z"
    }
   },
   "outputs": [],
   "source": [
    "language = 'python'\n",
    "dim = 100           # vector dimensions (available dimensions = 40, 50, 60, 100, 200)"
   ]
  },
  {
   "cell_type": "code",
   "execution_count": 50,
   "metadata": {
    "ExecuteTime": {
     "end_time": "2019-01-22T09:05:33.725302Z",
     "start_time": "2019-01-22T09:05:30.424758Z"
    }
   },
   "outputs": [
    {
     "name": "stdout",
     "output_type": "stream",
     "text": [
      "39135 vectors loaded\n"
     ]
    }
   ],
   "source": [
    "w2v = KeyedVectors.load_word2vec_format('{}_w2v_dim{}.txt.gz'.format(language, dim), binary=False)\n",
    "vocab = w2v.vocab.keys()\n",
    "print(len(vocab), \"vectors loaded\")"
   ]
  },
  {
   "cell_type": "code",
   "execution_count": 51,
   "metadata": {
    "ExecuteTime": {
     "end_time": "2019-01-22T09:05:33.740651Z",
     "start_time": "2019-01-22T09:05:33.726578Z"
    },
    "scrolled": false
   },
   "outputs": [
    {
     "data": {
      "text/plain": [
       "[('numpy', 0.8809151649475098),\n",
       " ('matplotlib', 0.8523579835891724),\n",
       " ('sklearn', 0.7190529108047485),\n",
       " ('mpl_toolkits', 0.7052695751190186),\n",
       " ('pylab', 0.7024767398834229),\n",
       " ('h5py', 0.6942321062088013),\n",
       " ('skimage', 0.6790463924407959),\n",
       " ('pandas', 0.6559168696403503),\n",
       " ('seaborn', 0.6243377327919006),\n",
       " ('plot', 0.6113473773002625),\n",
       " ('astropy', 0.6110571622848511),\n",
       " ('sympy', 0.594063937664032),\n",
       " ('warnings', 0.5912416577339172),\n",
       " ('joblib', 0.585379958152771),\n",
       " ('multiprocessing', 0.5853263735771179),\n",
       " ('statsmodels', 0.5823619961738586),\n",
       " ('tqdm', 0.5802236795425415),\n",
       " ('networkx', 0.5796523094177246),\n",
       " ('math', 0.5756367444992065),\n",
       " ('xarray', 0.567223310470581)]"
      ]
     },
     "execution_count": 51,
     "metadata": {},
     "output_type": "execute_result"
    }
   ],
   "source": [
    "w2v.most_similar(['scipy'], topn=20)"
   ]
  },
  {
   "cell_type": "code",
   "execution_count": 52,
   "metadata": {
    "ExecuteTime": {
     "end_time": "2019-01-22T09:05:33.747997Z",
     "start_time": "2019-01-22T09:05:33.741730Z"
    }
   },
   "outputs": [
    {
     "data": {
      "text/plain": [
       "[('keras', 0.7191147804260254),\n",
       " ('torch', 0.6907122135162354),\n",
       " ('cv2', 0.6192578077316284),\n",
       " ('google', 0.6094322204589844),\n",
       " ('sklearn', 0.608393669128418),\n",
       " ('gym', 0.597603440284729),\n",
       " ('theano', 0.5811425447463989),\n",
       " ('nltk', 0.5744029879570007),\n",
       " ('grpc', 0.5688167214393616),\n",
       " ('layers', 0.559769868850708),\n",
       " ('tensor2tensor', 0.5385322570800781),\n",
       " ('configuration', 0.5309192538261414),\n",
       " ('tarfile', 0.5267449021339417),\n",
       " ('h5py', 0.5252829790115356),\n",
       " ('torchvision', 0.5192040205001831),\n",
       " ('pydoc', 0.518040657043457),\n",
       " ('googleapiclient', 0.5174487233161926),\n",
       " ('curses', 0.5170571804046631),\n",
       " ('moto', 0.5157337784767151),\n",
       " ('mpi4py', 0.5153995752334595)]"
      ]
     },
     "execution_count": 52,
     "metadata": {},
     "output_type": "execute_result"
    }
   ],
   "source": [
    "w2v.most_similar(['tensorflow'], topn=20)"
   ]
  },
  {
   "cell_type": "code",
   "execution_count": 53,
   "metadata": {
    "ExecuteTime": {
     "end_time": "2019-01-22T09:05:33.760740Z",
     "start_time": "2019-01-22T09:05:33.749096Z"
    },
    "scrolled": true
   },
   "outputs": [
    {
     "data": {
      "text/plain": [
       "[('ssl', 0.764373779296875),\n",
       " ('httplib', 0.7568472027778625),\n",
       " ('socketserver', 0.6918199062347412),\n",
       " ('socket', 0.6653854846954346),\n",
       " ('cookielib', 0.6641966104507446),\n",
       " ('urllib', 0.663933515548706),\n",
       " ('dns', 0.6635323762893677),\n",
       " ('structures', 0.6597107648849487),\n",
       " ('Cookie', 0.6585776209831238),\n",
       " ('BaseHTTPServer', 0.6524630784988403),\n",
       " ('SocketServer', 0.6465392112731934),\n",
       " ('protocol', 0.6380120515823364),\n",
       " ('auth', 0.634049117565155),\n",
       " ('cgi', 0.6283493638038635),\n",
       " ('SimpleHTTPServer', 0.6277365684509277),\n",
       " ('server', 0.6224425435066223),\n",
       " ('html', 0.6173983812332153),\n",
       " ('hmac', 0.6122233867645264),\n",
       " ('xmlrpc', 0.6112687587738037),\n",
       " ('certifi', 0.6093894243240356)]"
      ]
     },
     "execution_count": 53,
     "metadata": {},
     "output_type": "execute_result"
    }
   ],
   "source": [
    "w2v.most_similar(['http'], topn=20)"
   ]
  },
  {
   "cell_type": "code",
   "execution_count": 54,
   "metadata": {
    "ExecuteTime": {
     "end_time": "2019-01-22T09:05:33.771255Z",
     "start_time": "2019-01-22T09:05:33.761901Z"
    }
   },
   "outputs": [
    {
     "data": {
      "text/plain": [
       "[('aiohttp', 0.9331825375556946),\n",
       " ('async_timeout', 0.7357417345046997),\n",
       " ('uvloop', 0.7060889005661011),\n",
       " ('concurrent', 0.7020696401596069),\n",
       " ('websockets', 0.6948832869529724),\n",
       " ('yarl', 0.6904221773147583),\n",
       " ('pathlib', 0.6320066452026367),\n",
       " ('typing', 0.6290850639343262),\n",
       " ('ssl', 0.6289737224578857),\n",
       " ('trollius', 0.6260443925857544),\n",
       " ('signal', 0.6208966374397278),\n",
       " ('aioredis', 0.6141863465309143),\n",
       " ('ipaddress', 0.6127727031707764),\n",
       " ('multidict', 0.6069180965423584),\n",
       " ('enum', 0.5981425046920776),\n",
       " ('server', 0.5966424942016602),\n",
       " ('tornado', 0.5941511392593384),\n",
       " ('selectors', 0.5920511484146118),\n",
       " ('log', 0.5701887607574463),\n",
       " ('voluptuous', 0.5671753883361816)]"
      ]
     },
     "execution_count": 54,
     "metadata": {},
     "output_type": "execute_result"
    }
   ],
   "source": [
    "w2v.most_similar(['asyncio'], topn=20)"
   ]
  },
  {
   "cell_type": "code",
   "execution_count": null,
   "metadata": {},
   "outputs": [],
   "source": []
  }
 ],
 "metadata": {
  "kernelspec": {
   "display_name": "Python 3",
   "language": "python",
   "name": "python3"
  },
  "language_info": {
   "codemirror_mode": {
    "name": "ipython",
    "version": 3
   },
   "file_extension": ".py",
   "mimetype": "text/x-python",
   "name": "python",
   "nbconvert_exporter": "python",
   "pygments_lexer": "ipython3",
   "version": "3.7.2"
  }
 },
 "nbformat": 4,
 "nbformat_minor": 2
}
